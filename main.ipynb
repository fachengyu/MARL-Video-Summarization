{
 "cells": [
  {
   "cell_type": "markdown",
   "metadata": {
    "id": "9eZ_JyDYz6kJ"
   },
   "source": [
    "# 新段落"
   ]
  },
  {
   "cell_type": "code",
   "execution_count": 1,
   "metadata": {
    "id": "HpxExDvlCADi"
   },
   "outputs": [],
   "source": [
    "import torch\n",
    "import torch.nn as nn\n",
    "from torch.optim import lr_scheduler\n",
    "from torch.distributions import Categorical\n",
    "import numpy as np\n",
    "import time\n",
    "import datetime\n",
    "import os.path as osp\n",
    "import matplotlib.pyplot as plt\n",
    "import h5py"
   ]
  },
  {
   "cell_type": "code",
   "execution_count": 14,
   "metadata": {
    "id": "St8LVhJoB9Q0"
   },
   "outputs": [],
   "source": [
    "class DSN(nn.Module):\n",
    "    def __init__(self, is_gpu=False):\n",
    "        super().__init__()\n",
    "        self.lstm = nn.LSTM(4096,512,1,bidirectional= True)\n",
    "        self.flatten = nn.Flatten()\n",
    "        self.fc = nn.Linear(512*2, 11)\n",
    "        self.softmax = nn.Softmax(dim=-1)\n",
    "        self.is_gpu = is_gpu\n",
    "    def forward(self, x):\n",
    "        #feature = feature.reshape(1,1,feature.shape)\n",
    "        #input = self.unfold(feature).squeeze(0).unsqueeze(1)\n",
    "        clips = np.array([np.arange(i-3,i+4) for i in np.arange(x.shape[0])]) % x.shape[0]\n",
    "        input = torch.zeros(x.shape[0], x.shape[-1])\n",
    "        if self.is_gpu:\n",
    "            input = input.cuda()\n",
    "        for i in range(x.shape[0]):\n",
    "            input[i,:] = x[clips[i],:].mean(dim=0)\n",
    "        input = input.unsqueeze(dim=1)\n",
    "        h,_ = self.lstm(input)\n",
    "        distribution = self.softmax(self.fc(h.squeeze(dim=1)))\n",
    "        return  distribution\n",
    "\n",
    "def act(distribution,x,init_state,tot_epoch=100):\n",
    "    _distribution = distribution.detach()\n",
    "    state_space = np.arange(0, x.shape[0])\n",
    "    action_space = np.array([-16,-8,-4,-2,-1,0,1,2,4,8,16])\n",
    "\n",
    "    for _ in range(tot_epoch):\n",
    "        probs = _distribution[init_state]\n",
    "        probs = probs*eps\n",
    "        probs[np.arange(probs.shape[0]),torch.argmax(probs,dim=-1).numpy()] *= (1-eps)/eps\n",
    "        m = Categorical(probs)\n",
    "        action_idx = m.sample()\n",
    "        actions = action_space[action_idx.numpy()]\n",
    "        _state = (init_state + actions) % x.shape[0]\n",
    "    return _state\n"
   ]
  },
  {
   "cell_type": "markdown",
   "metadata": {
    "id": "7vwRMYXItPE6"
   },
   "source": [
    "\n",
    "# 评估"
   ]
  },
  {
   "cell_type": "code",
   "execution_count": 32,
   "metadata": {
    "id": "rmeGuBO9bxDK"
   },
   "outputs": [],
   "source": [
    "import json\n",
    "import math\n",
    "from tabulate import tabulate\n",
    "\n",
    "\n",
    "def read_json(fpath):\n",
    "    with open(fpath, 'r') as f:\n",
    "        obj = json.load(f)\n",
    "    return obj\n",
    "\n",
    "\n",
    "def knapsack_dp(values,weights,n_items,capacity,return_all=False):\n",
    "#     check_inputs(values,weights,n_items,capacity)\n",
    "\n",
    "    table = np.zeros((n_items+1,capacity+1),dtype=np.float32)\n",
    "    keep = np.zeros((n_items+1,capacity+1),dtype=np.float32)\n",
    "\n",
    "    for i in range(1,n_items+1):\n",
    "        for w in range(0,capacity+1):\n",
    "            wi = weights[i-1] # weight of current item\n",
    "            vi = values[i-1] # value of current item\n",
    "            if (wi <= w) and (vi + table[i-1,w-wi] > table[i-1,w]):\n",
    "                table[i,w] = vi + table[i-1,w-wi]\n",
    "                keep[i,w] = 1\n",
    "            else:\n",
    "                table[i,w] = table[i-1,w]\n",
    "\n",
    "    picks = []\n",
    "    K = capacity\n",
    "\n",
    "    for i in range(n_items,0,-1):\n",
    "        if keep[i,K] == 1:\n",
    "            picks.append(i)\n",
    "            K -= weights[i-1]\n",
    "\n",
    "    picks.sort()\n",
    "    picks = [x-1 for x in picks] # change to 0-index\n",
    "\n",
    "    if return_all:\n",
    "        max_val = table[n_items,capacity]\n",
    "        return picks,max_val\n",
    "    return picks\n",
    "\n",
    "\n",
    "def generate_summary(agent_states, cps, n_frames, nfps, positions, proportion=0.15, method='knapsack'):\n",
    "    \"\"\"Generate keyshot-based video summary i.e. a binary vector.\n",
    "    Args:\n",
    "    ---------------------------------------------\n",
    "    - ypred: predicted importance scores.  (1, seq_len, 1) seq_len = n_subsamples\n",
    "    - cps: change points, (num_segments, 2), each row stores indices of a segment.\n",
    "    - n_frames: original number of frames.\n",
    "    - nfps: number of frames per segment.\n",
    "    - positions: positions of subsampled frames in the original video.\n",
    "    - proportion: length of video summary (compared to original video length).\n",
    "    - method: defines how shots are selected, ['knapsack', 'rank'].\n",
    "    \"\"\"\n",
    "    n_segs = cps.shape[0]\n",
    "    frame_scores = np.zeros((n_frames), dtype=np.float32)\n",
    "    if positions.dtype != int:\n",
    "        positions = positions.astype(np.int32)\n",
    "    if positions[-1] != n_frames:\n",
    "        positions = np.concatenate([positions, [n_frames]])       \n",
    "    for i in range(len(positions) - 1): # len(position) = n_subsamples\n",
    "        pos_left, pos_right = positions[i], positions[i+1]\n",
    "        if i == len(positions): # len(ypred) = n_subsamples\n",
    "            frame_scores[pos_left:pos_right] = 0\n",
    "        else:\n",
    "            for j in range(len(agent_states)):\n",
    "                if pos_left <= agent_states[j] < pos_right:\n",
    "                    frame_scores[pos_left:pos_right] = 1\n",
    "\n",
    "    seg_score = []\n",
    "    for seg_idx in range(n_segs):\n",
    "        start, end = int(cps[seg_idx,0]), int(cps[seg_idx,1]+1)\n",
    "        scores = frame_scores[start:end]\n",
    "        seg_score.append(float(scores.mean()))\n",
    "\n",
    "    limits = int(math.floor(n_frames * proportion))\n",
    "\n",
    "    if method == 'knapsack':\n",
    "        picks = knapsack_dp(seg_score, nfps, n_segs, limits)\n",
    "    elif method == 'rank':\n",
    "        order = np.argsort(seg_score)[::-1].tolist()\n",
    "        picks = []\n",
    "        total_len = 0\n",
    "        for i in order:\n",
    "            if total_len + nfps[i] < limits:\n",
    "                picks.append(i)\n",
    "                total_len += nfps[i]\n",
    "    else:\n",
    "        raise KeyError(\"Unknown method {}\".format(method))\n",
    "\n",
    "    summary = np.zeros((1), dtype=np.float32) # this element should be deleted\n",
    "    for seg_idx in range(n_segs):\n",
    "        nf = nfps[seg_idx]\n",
    "        if seg_idx in picks:\n",
    "            tmp = np.ones((nf), dtype=np.float32)\n",
    "        else:\n",
    "            tmp = np.zeros((nf), dtype=np.float32)\n",
    "        summary = np.concatenate((summary, tmp))\n",
    "\n",
    "    summary = np.delete(summary, 0) # delete the first element\n",
    "    return summary\n",
    "\n",
    "\n",
    "def evaluate_summary(machine_summary, user_summary, eval_metric='avg'):\n",
    "    \"\"\"Compare machine summary with user summary (keyshot-based).\n",
    "    Args:\n",
    "    --------------------------------\n",
    "    machine_summary and user_summary should be binary vectors of ndarray type.\n",
    "    eval_metric = {'avg', 'max'}\n",
    "    'avg' averages results of comparing multiple human summaries.\n",
    "    'max' takes the maximum (best) out of multiple comparisons.\n",
    "    \"\"\"\n",
    "    machine_summary = machine_summary.astype(np.float32)\n",
    "    user_summary = user_summary.astype(np.float32)\n",
    "    n_users,n_frames = user_summary.shape\n",
    "\n",
    "    # binarization\n",
    "    machine_summary[machine_summary > 0] = 1\n",
    "    user_summary[user_summary > 0] = 1\n",
    "\n",
    "    if len(machine_summary) > n_frames:\n",
    "        machine_summary = machine_summary[:n_frames]\n",
    "    elif len(machine_summary) < n_frames:\n",
    "        zero_padding = np.zeros((n_frames - len(machine_summary)))\n",
    "        machine_summary = np.concatenate([machine_summary, zero_padding])\n",
    "\n",
    "    f_scores = []\n",
    "    prec_arr = []\n",
    "    rec_arr = []\n",
    "\n",
    "    for user_idx in range(n_users):\n",
    "        gt_summary = user_summary[user_idx,:]\n",
    "        overlap_duration = (machine_summary * gt_summary).sum()\n",
    "        precision = overlap_duration / (machine_summary.sum() + 1e-8)\n",
    "        recall = overlap_duration / (gt_summary.sum() + 1e-8)\n",
    "        if precision == 0 and recall == 0:\n",
    "            f_score = 0.\n",
    "        else:\n",
    "            f_score = (2 * precision * recall) / (precision + recall)\n",
    "        f_scores.append(f_score)\n",
    "        prec_arr.append(precision)\n",
    "        rec_arr.append(recall)\n",
    "\n",
    "    if eval_metric == 'avg':\n",
    "        final_f_score = np.mean(f_scores)\n",
    "        final_prec = np.mean(prec_arr)\n",
    "        final_rec = np.mean(rec_arr)\n",
    "    elif eval_metric == 'max':\n",
    "        final_f_score = np.max(f_scores)\n",
    "        max_idx = np.argmax(f_scores)\n",
    "        final_prec = prec_arr[max_idx]\n",
    "        final_rec = rec_arr[max_idx]\n",
    "    \n",
    "    return final_f_score, final_prec, final_rec\n",
    "\n",
    "\n",
    "def evaluate(model, dataset, test_keys): # test_keys是测试video的名称字符串列表，dataset是h5文件\n",
    "    print(\"==> Test\")\n",
    "    features=dict.fromkeys(test_keys, None)\n",
    "    with h5py.File('summe_fc6.hdf5',\"r\") as f:\n",
    "        for k in test_keys:\n",
    "            video = f[k][\"features\"][()]\n",
    "            features[k] = video#feature\n",
    "    f.close()\n",
    "    with torch.no_grad():\n",
    "        fms = []\n",
    "        eval_metric = 'avg'\n",
    "\n",
    "        table = [[\"No.\", \"Video\", \"F-score\"]]\n",
    "\n",
    "#         h5_res = h5py.File('result.h5', 'w')\n",
    "\n",
    "        for key_idx, key in enumerate(test_keys):\n",
    "#             seq = dataset[key]['features'][...]\n",
    "#             seq = torch.from_numpy(seq).unsqueeze(0) # input shape (1, seq_len, dim)\n",
    "#             if use_gpu: seq = seq.cuda()\n",
    "#             probs = model(seq, init_state)\n",
    "#             probs = probs.data.cpu().squeeze().numpy()\n",
    "        \n",
    "            cps = dataset[key]['change_points'][...]\n",
    "            num_frames = dataset[key]['n_frames'][()]\n",
    "            nfps = dataset[key]['n_frame_per_seg'][...].tolist()\n",
    "            positions = dataset[key]['picks'][...]\n",
    "            user_summary = dataset[key]['user_summary'][...]\n",
    "\n",
    "            X = torch.from_numpy(features[key])\n",
    "            agent_states = np.linspace(0,X.shape[0],20).astype('int') % X.shape[0]\n",
    "            distribution = model(X)\n",
    "            agent_states = act(distribution,X,agent_states,tot_epoch=100)\n",
    "            \n",
    "            machine_summary = generate_summary(agent_states, cps, num_frames, nfps, positions)\n",
    "            fm, _, _ = evaluate_summary(machine_summary, user_summary, eval_metric)\n",
    "            fms.append(fm)\n",
    "\n",
    "            table.append([key_idx+1, key, \"{:.1%}\".format(fm)])\n",
    "            print(f'{key} is finished')\n",
    "\n",
    "#             h5_res.create_dataset(key + '/score', data=probs)\n",
    "#             h5_res.create_dataset(key + '/machine_summary', data=machine_summary)\n",
    "#             h5_res.create_dataset(key + '/gtscore', data=dataset[key]['gtscore'][...])\n",
    "#             h5_res.create_dataset(key + '/fm', data=fm)\n",
    "\n",
    "    print(tabulate(table))\n",
    "\n",
    "#     h5_res.close()\n",
    "\n",
    "    mean_fm = np.mean(fms)\n",
    "    print(\"Average F-score {:.1%}\".format(mean_fm))\n",
    "\n",
    "    return mean_fm"
   ]
  },
  {
   "cell_type": "markdown",
   "metadata": {
    "id": "el9vQXaUXj2z"
   },
   "source": [
    "#训练过程"
   ]
  },
  {
   "cell_type": "markdown",
   "metadata": {
    "id": "ck7PXvqyFAvr"
   },
   "source": [
    "## 新数据集"
   ]
  },
  {
   "cell_type": "code",
   "execution_count": 4,
   "metadata": {
    "colab": {
     "base_uri": "https://localhost:8080/",
     "height": 494
    },
    "id": "EX3FOlm94G_s",
    "outputId": "3c28626e-a288-4b14-bcb6-b2c720612bfe"
   },
   "outputs": [],
   "source": [
    "dataset = h5py.File('summe_fc6.hdf5', 'r') # dataset是h5格式的可多重迭代对象\n",
    "num_videos = len(dataset.keys())\n",
    "splits = read_json('summe_splits.json')  # splits是字典，值是所有video的名字，如“video1”、“video20”\n",
    "# assert args.split_id < len(splits), \"split_id (got {}) exceeds {}\".format(args.split_id, len(splits))\n",
    "split = splits[0]\n",
    "train_keys = split['train_keys']\n",
    "test_keys = split['test_keys']\n",
    "\n",
    "features=dict.fromkeys(train_keys, None)\n",
    "key_frame_list=dict.fromkeys(train_keys, None)\n",
    "picks_list = dict.fromkeys(train_keys, None)\n",
    "with h5py.File('summe_fc6.hdf5',\"r\") as f:\n",
    "    for k in train_keys:\n",
    "        video = f[k][\"features\"][()]\n",
    "        key_f = f[k]['fuser_summary'][()]\n",
    "        picks = f[k]['picks'][()]\n",
    "        features[k] = video#feature\n",
    "        key_frame_list[k] = key_f\n",
    "        picks_list[k] = picks"
   ]
  },
  {
   "cell_type": "markdown",
   "metadata": {
    "id": "j2CXWoCbGEmu"
   },
   "source": [
    "## 旧数据集"
   ]
  },
  {
   "cell_type": "code",
   "execution_count": 4,
   "metadata": {
    "id": "Ek_pz8yVFGhw"
   },
   "outputs": [],
   "source": [
    "dataset = h5py.File('/Users/Farnante/Desktop/P/视频摘要/eccv16_dataset_summe_google_pool5.h5', 'r') # dataset是h5格式的可多重迭代对象\n",
    "num_videos = len(dataset.keys())\n",
    "splits = read_json('summe_splits.json')  # splits是字典，值是所有video的名字，如“video1”、“video20”\n",
    "# assert args.split_id < len(splits), \"split_id (got {}) exceeds {}\".format(args.split_id, len(splits))\n",
    "split = splits[0]\n",
    "train_keys = split['train_keys']\n",
    "test_keys = split['test_keys']\n",
    "\n",
    "features=dict.fromkeys(train_keys, None)\n",
    "key_frame_list = dict.fromkeys(train_keys, None)\n",
    "picks_list = dict.fromkeys(train_keys, None)\n",
    "with h5py.File('eccv16_dataset_summe_google_pool5.h5',\"r\") as f:\n",
    "    for k in train_keys:\n",
    "        video = f[k][\"features\"][()]\n",
    "        key_summary = f[k][\"user_summary\"][()]\n",
    "        picks = f[k][\"picks\"][()]\n",
    "        features[k] = video#feature\n",
    "        key_frame_list[k] = np.where(np.mean(key_summary,axis=0)> 1/3, 1, 0)\n",
    "        picks_list[k] = picks"
   ]
  },
  {
   "cell_type": "markdown",
   "metadata": {
    "id": "q9PUMbZHQll-"
   },
   "source": [
    "## main"
   ]
  },
  {
   "cell_type": "code",
   "execution_count": 86,
   "metadata": {
    "colab": {
     "base_uri": "https://localhost:8080/",
     "height": 1000
    },
    "id": "8vEDybEIUA_b",
    "outputId": "b46fa6f3-b8f5-4b5f-db89-016b4d6f6bfe",
    "scrolled": true
   },
   "outputs": [
    {
     "name": "stdout",
     "output_type": "stream",
     "text": [
      "video_25 started training\n",
      "one epoch cost time (h:m:s): 0:00:01\n"
     ]
    },
    {
     "ename": "KeyboardInterrupt",
     "evalue": "",
     "output_type": "error",
     "traceback": [
      "\u001b[0;31m---------------------------------------------------------------------------\u001b[0m",
      "\u001b[0;31mKeyboardInterrupt\u001b[0m                         Traceback (most recent call last)",
      "\u001b[0;32m<ipython-input-86-38786b27f49a>\u001b[0m in \u001b[0;36m<module>\u001b[0;34m\u001b[0m\n\u001b[1;32m     83\u001b[0m                 \u001b[0mX_a\u001b[0m \u001b[0;34m=\u001b[0m \u001b[0m_X\u001b[0m\u001b[0;34m[\u001b[0m\u001b[0mstate\u001b[0m\u001b[0;34m]\u001b[0m\u001b[0;34m\u001b[0m\u001b[0;34m\u001b[0m\u001b[0m\n\u001b[1;32m     84\u001b[0m                 \u001b[0mX_a\u001b[0m \u001b[0;34m=\u001b[0m \u001b[0mX_a\u001b[0m\u001b[0;34m/\u001b[0m\u001b[0mX_a\u001b[0m\u001b[0;34m.\u001b[0m\u001b[0mnorm\u001b[0m\u001b[0;34m(\u001b[0m\u001b[0mp\u001b[0m\u001b[0;34m=\u001b[0m\u001b[0;36m2\u001b[0m\u001b[0;34m,\u001b[0m \u001b[0mdim\u001b[0m\u001b[0;34m=\u001b[0m\u001b[0;36m1\u001b[0m\u001b[0;34m,\u001b[0m \u001b[0mkeepdim\u001b[0m\u001b[0;34m=\u001b[0m\u001b[0;32mTrue\u001b[0m\u001b[0;34m)\u001b[0m\u001b[0;34m\u001b[0m\u001b[0;34m\u001b[0m\u001b[0m\n\u001b[0;32m---> 85\u001b[0;31m                 \u001b[0mM\u001b[0m \u001b[0;34m=\u001b[0m \u001b[0mtorch\u001b[0m\u001b[0;34m.\u001b[0m\u001b[0mmatmul\u001b[0m\u001b[0;34m(\u001b[0m\u001b[0mX_a\u001b[0m\u001b[0;34m,\u001b[0m \u001b[0mX_a\u001b[0m\u001b[0;34m.\u001b[0m\u001b[0mt\u001b[0m\u001b[0;34m(\u001b[0m\u001b[0;34m)\u001b[0m\u001b[0;34m)\u001b[0m\u001b[0;34m\u001b[0m\u001b[0;34m\u001b[0m\u001b[0m\n\u001b[0m\u001b[1;32m     86\u001b[0m                 \u001b[0mgu_reward\u001b[0m \u001b[0;34m=\u001b[0m \u001b[0;36m1\u001b[0m\u001b[0;34m/\u001b[0m\u001b[0;36m2\u001b[0m \u001b[0;34m-\u001b[0m \u001b[0;34m(\u001b[0m\u001b[0mM\u001b[0m\u001b[0;34m.\u001b[0m\u001b[0msum\u001b[0m\u001b[0;34m(\u001b[0m\u001b[0;34m)\u001b[0m \u001b[0;34m-\u001b[0m \u001b[0mtorch\u001b[0m\u001b[0;34m.\u001b[0m\u001b[0mtrace\u001b[0m\u001b[0;34m(\u001b[0m\u001b[0mM\u001b[0m\u001b[0;34m)\u001b[0m\u001b[0;34m)\u001b[0m\u001b[0;34m/\u001b[0m\u001b[0;34m(\u001b[0m\u001b[0;36m2\u001b[0m\u001b[0;34m*\u001b[0m\u001b[0mM\u001b[0m\u001b[0;34m.\u001b[0m\u001b[0mshape\u001b[0m\u001b[0;34m[\u001b[0m\u001b[0;36m0\u001b[0m\u001b[0;34m]\u001b[0m\u001b[0;34m*\u001b[0m\u001b[0;34m(\u001b[0m\u001b[0mM\u001b[0m\u001b[0;34m.\u001b[0m\u001b[0mshape\u001b[0m\u001b[0;34m[\u001b[0m\u001b[0;36m0\u001b[0m\u001b[0;34m]\u001b[0m\u001b[0;34m-\u001b[0m\u001b[0;36m1\u001b[0m\u001b[0;34m)\u001b[0m\u001b[0;34m)\u001b[0m\u001b[0;34m\u001b[0m\u001b[0;34m\u001b[0m\u001b[0m\n\u001b[1;32m     87\u001b[0m                 \u001b[0mgu_reward\u001b[0m \u001b[0;34m=\u001b[0m \u001b[0mgu_reward\u001b[0m\u001b[0;34m.\u001b[0m\u001b[0mitem\u001b[0m\u001b[0;34m(\u001b[0m\u001b[0;34m)\u001b[0m\u001b[0;34m\u001b[0m\u001b[0;34m\u001b[0m\u001b[0m\n",
      "\u001b[0;31mKeyboardInterrupt\u001b[0m: "
     ]
    }
   ],
   "source": [
    "epoch = 700\n",
    "num_chain = 10\n",
    "length_per_chain = 20\n",
    "discount = 0.9\n",
    "eps = 0.1\n",
    "is_gpu = False\n",
    "\n",
    "\n",
    "reward_writer = {}\n",
    "\n",
    "epoch_list = np.random.choice([300,500,800],size=(10))\n",
    "index = np.arange(len(features))\n",
    "np.random.shuffle(index)\n",
    "\n",
    "ii=0\n",
    "for idx in index[:10]:\n",
    "    start_time = time.time()\n",
    "    model = DSN(is_gpu)\n",
    "    \n",
    "    if osp.exists('model_weights.pth'):\n",
    "        model.load_state_dict(torch.load(\"model_weights.pth\"))\n",
    "    \n",
    "    device=torch.device(\"cuda:0\" if torch.cuda.is_available() else \"cpu\")\n",
    "    model=model.to(device)\n",
    "    optimizer = torch.optim.Adam(model.parameters(), lr = 1e-5,  weight_decay=1)\n",
    "    scheduler = lr_scheduler.StepLR(optimizer, step_size=30, gamma=0.1)\n",
    "    model.train()\n",
    "    key = train_keys[idx]\n",
    "    print(f'{key} started training')\n",
    "    X = torch.from_numpy(features[key])\n",
    "    if is_gpu:\n",
    "        X = X.cuda()\n",
    "    X = X - X.mean(dim=0,keepdim=True)\n",
    "    n_clips = X.shape[0]\n",
    "    picks = picks_list[key]\n",
    "\n",
    "    key_frame = key_frame_list[key]\n",
    "    key_frame_frac = np.zeros(X.shape[0])\n",
    "    for i in range(X.shape[0]-1):\n",
    "        key_frame_frac[i] = np.mean(key_frame[picks[i]:picks[i+1]])\n",
    "    key_frame_frac[X.shape[0]-1] = np.mean(key_frame[X.shape[0]-1:])\n",
    "    reward_writer_k = []\n",
    "    state_writer_k = []\n",
    "    num_agents = int(X.shape[0]*0.15)\n",
    "    action_space = np.array([-16,-8,-4,-2,-1,0,1,2,4,8,16])\n",
    "    init_state = np.linspace(0, X.shape[0],num_agents).astype('int') % X.shape[0]\n",
    "    \n",
    "    #init_state = np.random.choice(X.shape[0],size = (agents.shape[0]))\n",
    "    lr_dict = {}\n",
    "    epoch = epoch_list[ii]\n",
    "    for n in range(epoch):\n",
    "        distribution = model(X)\n",
    "        init_state = act(distribution, X, init_state)\n",
    "        reward = torch.tensor(0.)\n",
    "        if is_gpu:\n",
    "            reward = reward.cuda()\n",
    "            \n",
    "        reward_history = torch.zeros(num_chain, length_per_chain)\n",
    "        if is_gpu:\n",
    "            reward_history = reward_history.cuda()\n",
    "\n",
    "        for j in range(num_chain):\n",
    "            state = init_state\n",
    "            u_reward = torch.tensor(0.)\n",
    "            s_reward = torch.tensor(0.)\n",
    "            if is_gpu:\n",
    "                u_reward = u_reward.cuda()\n",
    "                s_reward = s_reward.cuda()\n",
    "            for k in range(length_per_chain):\n",
    "                _X = X.detach()\n",
    "                key_frame_last = key_frame_frac[state]\n",
    "                \n",
    "                probs = distribution[state]\n",
    "                m = Categorical(probs)\n",
    "                action_idx = m.sample()\n",
    "                log_probs = m.log_prob(action_idx)\n",
    "                _action_idx = action_idx.cpu()\n",
    "                action = action_space[_action_idx.numpy()]\n",
    "                state = (state + action) % X.shape[0]\n",
    "                \n",
    "                key_frame_now = key_frame_frac[state]\n",
    "                \n",
    "                X_a = _X[state]\n",
    "                X_a = X_a/X_a.norm(p=2, dim=1, keepdim=True)\n",
    "                M = torch.matmul(X_a, X_a.t())\n",
    "                gu_reward = 1/2 - (M.sum() - torch.trace(M))/(2*M.shape[0]*(M.shape[0]-1))\n",
    "                gu_reward = gu_reward.item()\n",
    "                gs_reward = 1/2 + (key_frame_now.sum() - key_frame_last.sum())/(2*num_agents)\n",
    "                \n",
    "                if state[0] not in lr_dict:\n",
    "                    x = X_a[0]\n",
    "                    neighbor = np.arange(state[0]-3,state[0]+4) % X.shape[0]\n",
    "                    X_c = _X[neighbor]\n",
    "                    X_c = X_c/X_c.norm(p=2, dim=1, keepdim=True)\n",
    "                    lu_reward = (1 + torch.matmul(x, X_c.t()).min().item())/2\n",
    "                    lr_dict[state[0]] = lu_reward\n",
    "                else:\n",
    "                    lu_reward = lr_dict[state[0]]\n",
    "                \n",
    "                key_frame_last_a = key_frame_last[0]\n",
    "                key_frame_now_a = key_frame_now[0]\n",
    "                \n",
    "                if abs(action[0])<=1:\n",
    "                    ls_reward = (1 + key_frame_now_a - key_frame_last_a)/4 + 1/2\n",
    "                elif action[0]<-1:\n",
    "                        pre_state = state[0]-action[0]\n",
    "                        skip = np.arange(state[0]+1, pre_state) % X.shape[0]\n",
    "                        skip_r = np.mean(key_frame_frac[skip])\n",
    "                        ls_reward = (1 + key_frame_now_a - key_frame_last_a)/4 + (1-skip_r)/2\n",
    "                elif action[0]>1:\n",
    "                        pre_state = state[0]-action[0]\n",
    "                        skip = np.arange(pre_state+1 , state[0]) % X.shape[0]\n",
    "                        skip_r = np.mean(key_frame_frac[skip])\n",
    "                        ls_reward = (1 + key_frame_now_a - key_frame_last_a)/4 + (1-skip_r)/2\n",
    "                        \n",
    "                u_reward = -log_probs[0]*(lu_reward + gu_reward + ls_reward + gs_reward )\n",
    "\n",
    "                #u_reward = -log_probs[0]*(lu_reward + gu_reward)\n",
    "            \n",
    "                for i in range(1,num_agents):\n",
    "                    if state[i] not in lr_dict:\n",
    "                        x = X_a[i]\n",
    "                        neighbor = np.arange(state[i]-3,state[i]+4) % X.shape[0]\n",
    "                        X_c = _X[neighbor]\n",
    "                        X_c = X_c/X_c.norm(p=2, dim=1, keepdim=True)\n",
    "                        lu_reward = (1 + torch.matmul(x, X_c.t()).min().item())/2\n",
    "                        lr_dict[state[i]] = lu_reward\n",
    "                    else:\n",
    "                        lu_reward = lr_dict[state[i]]\n",
    "                    \n",
    "                    key_frame_last_a = key_frame_last[i]\n",
    "                    key_frame_now_a = key_frame_now[i]\n",
    "                    if abs(action[i])<=1:\n",
    "                        ls_reward = (1 + key_frame_now_a - key_frame_last_a)/4 + 1/2\n",
    "                    elif action[i]<-1:\n",
    "                            pre_state = state[i]-action[i]\n",
    "                            skip = np.arange(state[i]+1, pre_state) % X.shape[0]\n",
    "                            skip_r = np.mean(key_frame_frac[skip])\n",
    "                            ls_reward = (1 + key_frame_now_a - key_frame_last_a)/4 + (1-skip_r)/2\n",
    "                    elif action[i]>1:\n",
    "                            pre_state = state[i]-action[i]\n",
    "                            skip = np.arange(pre_state+1 , state[i]) % X.shape[0]\n",
    "                            skip_r = np.mean(key_frame_frac[skip])\n",
    "                            ls_reward = (1 + key_frame_now_a - key_frame_last_a)/4 + (1-skip_r)/2\n",
    "                        \n",
    "                    u_reward = -log_probs[i]*(lu_reward + gu_reward + ls_reward + gs_reward )\n",
    "\n",
    "                    #u_reward = -log_probs[i]*(lu_reward + gu_reward)\n",
    "                reward_history[j, k] = u_reward\n",
    "\n",
    "            if n+j == 0:\n",
    "                elapsed = round(time.time() - start_time)\n",
    "                elapsed = str(datetime.timedelta(seconds=elapsed))\n",
    "                #print(f'one epoch for computing a chain cost time (h:m:s): {elapsed}')\n",
    "                #对每个agent计算reward\n",
    "        reward_history = reward_history.mean(dim=0)\n",
    "        for t in range(reward_history.shape[-1]):\n",
    "            _discount = torch.pow(discount, torch.arange(t, reward_history.shape[-1]))\n",
    "            reward += torch.matmul(reward_history[t:], _discount.t())\n",
    "        \n",
    "        if n == 0:\n",
    "            elapsed = round(time.time() - start_time)\n",
    "            elapsed = str(datetime.timedelta(seconds=elapsed))\n",
    "            #print(f'one epoch for computing reward cost time (h:m:s): {elapsed}')\n",
    "\n",
    "        optimizer.zero_grad()\n",
    "        reward.backward()\n",
    "        optimizer.step() \n",
    "\n",
    "        reward_writer_k.append(reward.item())\n",
    "\n",
    "        elapsed = round(time.time() - start_time)\n",
    "        elapsed = str(datetime.timedelta(seconds=elapsed))\n",
    "        if n == 0:\n",
    "            print(f'one epoch cost time (h:m:s): {elapsed}')\n",
    "        if n % 50 == 49:\n",
    "            print(f'{n+1} epoch finished(total epoch: {epoch}). Total time (h:m:s): {elapsed}. Reward = {reward}')\n",
    "        \n",
    "        torch.save(model.state_dict(), 'model_weights.pth')\n",
    "    \n",
    "    ii+=1\n",
    "    reward_writer[key] = np.array(reward_writer_k)\n",
    "    print(f'{key} finished training')\n",
    "#=========save model============\n",
    "torch.save(model.state_dict(), 'model_weights.pth')\n",
    "print(len(reward_writer))"
   ]
  },
  {
   "cell_type": "code",
   "execution_count": 40,
   "metadata": {
    "colab": {
     "base_uri": "https://localhost:8080/",
     "height": 265
    },
    "id": "0_17cnj90Ec6",
    "outputId": "6dcdcfaf-34c9-4e20-e635-b784a910ce1b",
    "scrolled": true
   },
   "outputs": [
    {
     "data": {
      "image/png": "[encoded data removed]",
      "text/plain": [
       "<Figure size 432x288 with 1 Axes>"
      ]
     },
     "metadata": {
      "needs_background": "light"
     },
     "output_type": "display_data"
    }
   ],
   "source": [
    "plt.plot(np.arange(reward_writer.shape[-1]),reward_writer[0,:],label = '0')\n",
    "plt.plot(np.arange(reward_writer.shape[-1]),reward_writer[1,:],label = '1')\n",
    "plt.plot(np.arange(reward_writer.shape[-1]),reward_writer[2,:],label = '2')\n",
    "plt.plot(np.arange(reward_writer.shape[-1]),reward_writer[3,:],label = '3')\n",
    "plt.plot(np.arange(reward_writer.shape[-1]),reward_writer[4,:],label = '4')\n",
    "plt.ylabel(r'J($\\Theta$)')\n",
    "plt.xlabel('time step')\n",
    "plt.legend()\n",
    "plt.savefig('reward')"
   ]
  },
  {
   "cell_type": "code",
   "execution_count": null,
   "metadata": {
    "id": "WNVFZfFTFEUJ"
   },
   "outputs": [],
   "source": []
  },
  {
   "cell_type": "markdown",
   "metadata": {
    "id": "ARlYD8qCGAzs"
   },
   "source": [
    "#加载训练好的模型"
   ]
  },
  {
   "cell_type": "code",
   "execution_count": 33,
   "metadata": {
    "colab": {
     "base_uri": "https://localhost:8080/"
    },
    "id": "ZGLErjSzG7Ks",
    "outputId": "8faf6d40-99aa-4664-ac78-2772f0a0c3b3"
   },
   "outputs": [
    {
     "data": {
      "text/plain": [
       "DSN(\n",
       "  (lstm): LSTM(4096, 512, bidirectional=True)\n",
       "  (flatten): Flatten()\n",
       "  (fc): Linear(in_features=1024, out_features=11, bias=True)\n",
       "  (softmax): Softmax(dim=-1)\n",
       ")"
      ]
     },
     "execution_count": 33,
     "metadata": {},
     "output_type": "execute_result"
    }
   ],
   "source": [
    "model = DSN(is_gpu=False)\n",
    "model.load_state_dict(torch.load(\"model_weights.pth\"))\n",
    "model.eval()"
   ]
  },
  {
   "cell_type": "code",
   "execution_count": 70,
   "metadata": {},
   "outputs": [
    {
     "name": "stdout",
     "output_type": "stream",
     "text": [
      "==> Test\n",
      "video_17 is finished\n",
      "video_2 is finished\n",
      "video_20 is finished\n",
      "video_4 is finished\n",
      "video_9 is finished\n",
      "---  --------  -------\n",
      "No.  Video     F-score\n",
      "1    video_17  19.8%\n",
      "2    video_2   8.7%\n",
      "3    video_20  4.4%\n",
      "4    video_4   4.5%\n",
      "5    video_9   12.3%\n",
      "---  --------  -------\n",
      "Average F-score 9.9%\n"
     ]
    },
    {
     "data": {
      "text/plain": [
       "0.09933924762191598"
      ]
     },
     "execution_count": 70,
     "metadata": {},
     "output_type": "execute_result"
    }
   ],
   "source": [
    "dataset = h5py.File('summe_fc6.hdf5', 'r')\n",
    "eps=0.1\n",
    "evaluate(model, dataset, test_keys)"
   ]
  },
  {
   "cell_type": "code",
   "execution_count": 74,
   "metadata": {
    "colab": {
     "base_uri": "https://localhost:8080/"
    },
    "id": "eIF3oXpmTE1D",
    "outputId": "8ae7b73a-95e3-4f45-a9bb-39b4ea8ea0f7"
   },
   "outputs": [
    {
     "name": "stdout",
     "output_type": "stream",
     "text": [
      "tensor([[0.0905, 0.1235, 0.0891,  ..., 0.1210, 0.1033, 0.1059],\n",
      "        [0.0832, 0.1071, 0.0869,  ..., 0.1356, 0.1069, 0.0993],\n",
      "        [0.0778, 0.0912, 0.0845,  ..., 0.1426, 0.1060, 0.0869],\n",
      "        ...,\n",
      "        [0.0920, 0.2197, 0.0970,  ..., 0.0908, 0.0971, 0.1338],\n",
      "        [0.0923, 0.1901, 0.0970,  ..., 0.1008, 0.1016, 0.1337],\n",
      "        [0.0898, 0.1559, 0.0969,  ..., 0.1117, 0.1043, 0.1272]],\n",
      "       grad_fn=<SoftmaxBackward>)\n",
      "torch.return_types.max(\n",
      "values=tensor([0.1235, 0.1356, 0.1426, 0.1420, 0.1387, 0.1340, 0.1282, 0.1309, 0.1331,\n",
      "        0.1345, 0.1350, 0.1346, 0.1356, 0.1364, 0.1360, 0.1345, 0.1326, 0.1359,\n",
      "        0.1398, 0.1424, 0.1433, 0.1427, 0.1408, 0.1378, 0.1333, 0.1337, 0.1373,\n",
      "        0.1397, 0.1412, 0.1417, 0.1418, 0.1412, 0.1404, 0.1391, 0.1373, 0.1343,\n",
      "        0.1290, 0.1242, 0.1525, 0.1843, 0.2148, 0.2408, 0.2585, 0.2660, 0.2637,\n",
      "        0.2549, 0.2410, 0.2222, 0.1954, 0.1685, 0.1453, 0.1302, 0.1187, 0.1101,\n",
      "        0.1104, 0.1114, 0.1173, 0.1213, 0.1203, 0.1152, 0.1145, 0.1124, 0.1090,\n",
      "        0.1146, 0.1267, 0.1385, 0.1480, 0.1549, 0.1593, 0.1624, 0.1631, 0.1617,\n",
      "        0.1574, 0.1509, 0.1423, 0.1416, 0.1441, 0.1424, 0.1331, 0.1395, 0.1893,\n",
      "        0.2651, 0.3632, 0.4673, 0.5512, 0.6136, 0.6569, 0.6721, 0.6703, 0.6478,\n",
      "        0.6092, 0.5597, 0.4918, 0.4233, 0.3585, 0.2950, 0.2433, 0.1979, 0.1547,\n",
      "        0.1420, 0.1638, 0.1864, 0.2098, 0.2291, 0.2401, 0.2414, 0.2197, 0.1901,\n",
      "        0.1559], grad_fn=<MaxBackward0>),\n",
      "indices=tensor([ 1,  8,  8,  8,  8,  8,  8,  4,  4,  4,  4,  4,  6,  6,  6,  6,  6,  8,\n",
      "         8,  8,  8,  8,  8,  8,  8,  6,  6,  6,  6,  6,  6,  6,  6,  6,  6,  6,\n",
      "         6,  6,  0,  0,  0,  0,  0,  0,  0,  0,  0,  0,  0,  0,  0,  0,  0,  9,\n",
      "         9,  9, 10, 10, 10,  9,  9,  9,  9,  6,  6,  6,  6,  6,  6,  6,  6,  6,\n",
      "         6,  6,  6,  0,  0,  0,  0,  5,  5,  5,  5,  5,  5,  5,  5,  5,  5,  5,\n",
      "         5,  5,  5,  5,  5,  5,  5,  5,  5,  1,  1,  1,  1,  1,  1,  1,  1,  1,\n",
      "         1]))\n",
      "video_19:\n",
      "每个片段中关键帧所占比例\n",
      "[0.         0.         0.         0.         0.         0.\n",
      " 0.         0.         0.         0.         0.         0.\n",
      " 0.         0.         0.         0.         0.         0.\n",
      " 0.         0.         0.         0.         0.         0.\n",
      " 0.         0.         0.         0.         0.         0.\n",
      " 0.         0.         0.         0.         0.         0.\n",
      " 0.         0.         0.         0.4375     1.         1.\n",
      " 1.         1.         0.5625     0.         0.         0.\n",
      " 0.         0.         0.         0.         0.         0.\n",
      " 0.         0.         0.         0.         0.         0.\n",
      " 0.         0.         0.         0.         0.         0.\n",
      " 0.         0.         0.         0.         0.         0.\n",
      " 0.         0.         0.         0.6875     1.         1.\n",
      " 1.         1.         1.         1.         1.         1.\n",
      " 1.         1.         1.         0.3125     0.         0.\n",
      " 0.         0.         0.         0.         0.         0.\n",
      " 0.         0.         0.         0.         0.         0.\n",
      " 0.         0.         0.         0.         0.         0.\n",
      " 0.16555082]\n",
      "每个片段在政策下对应的最大可能动作\n",
      "[ -8   4   4   4   4   4   4  -1  -1  -1  -1  -1   1   1   1   1   1   4\n",
      "   4   4   4   4   4   4   4   1   1   1   1   1   1   1   1   1   1   1\n",
      "   1   1 -16 -16 -16 -16 -16 -16 -16 -16 -16 -16 -16 -16 -16 -16 -16   8\n",
      "   8   8  16  16  16   8   8   8   8   1   1   1   1   1   1   1   1   1\n",
      "   1   1   1 -16 -16 -16 -16   0   0   0   0   0   0   0   0   0   0   0\n",
      "   0   0   0   0   0   0   0   0   0  -8  -8  -8  -8  -8  -8  -8  -8  -8\n",
      "  -8]\n",
      "[  1  16  25  26  29  62  66  67  69  70  83  89  91 101]\n",
      "[ 39  40  41  42  43  44  75  76  77  78  79  80  81  82  83  84  85  86\n",
      "  87 108]\n"
     ]
    }
   ],
   "source": [
    "key = 'video_19'\n",
    "X = torch.from_numpy(features[key])\n",
    "X = X - X.mean(dim=0,keepdim=True) \n",
    "_key_frame = key_frame_list[key]\n",
    "picks = picks_list[key]\n",
    "key_frame_frac = np.zeros(X.shape[0])\n",
    "num_agents = int(X.shape[0]*0.15)\n",
    "agents = np.arange(num_agents)\n",
    "\n",
    "\n",
    "for i in range(X.shape[0]-1):\n",
    "    key_frame_frac[i] = np.mean(_key_frame[picks[i]:picks[i+1]])\n",
    "key_frame_frac[X.shape[0]-1] = np.mean(_key_frame[X.shape[0]-1:])\n",
    "\n",
    "action_space = np.array([-16,-8,-4,-2,-1,0,1,2,4,8,16])\n",
    "action_idx = torch.argmax(model(X),dim=-1)\n",
    "\n",
    "dis = model(X)\n",
    "init_state = np.random.choice(X.shape[0],size = (agents.shape[0]))\n",
    "state = act(dis,X,init_state,tot_epoch=200)\n",
    "\n",
    "print(dis)\n",
    "print(dis.max(dim=-1))\n",
    "print(f'{key}:')\n",
    "print('每个片段中关键帧所占比例')\n",
    "print(key_frame_frac)\n",
    "print('每个片段在政策下对应的最大可能动作')\n",
    "print(action_space[action_idx])\n",
    "print(np.unique(state))\n",
    "print(np.array(np.where(key_frame_frac>0)).flatten())"
   ]
  },
  {
   "cell_type": "code",
   "execution_count": 75,
   "metadata": {
    "colab": {
     "base_uri": "https://localhost:8080/"
    },
    "id": "VkHJ5mpiLh2e",
    "outputId": "39d6d464-6f1c-4b88-d4c3-cb85125a58ae"
   },
   "outputs": [
    {
     "data": {
      "text/plain": [
       "<matplotlib.image.AxesImage at 0x7f9a3e3e9250>"
      ]
     },
     "execution_count": 75,
     "metadata": {},
     "output_type": "execute_result"
    },
    {
     "data": {
      "image/png": "[encoded data removed]",
      "text/plain": [
       "<Figure size 504x720 with 1 Axes>"
      ]
     },
     "metadata": {
      "needs_background": "light"
     },
     "output_type": "display_data"
    }
   ],
   "source": [
    "objection = np.expand_dims(np.where(action_space[action_idx]==0,1,0),axis=0)\n",
    "A = np.vstack((objection,key_frame_frac))\n",
    "plt.figure(figsize=(7,10))\n",
    "plt.imshow(A,aspect=50)\n"
   ]
  },
  {
   "cell_type": "markdown",
   "metadata": {
    "id": "D81noC_Z7y7W"
   },
   "source": []
  },
  {
   "cell_type": "code",
   "execution_count": null,
   "metadata": {
    "id": "dJOpVlS27sz7"
   },
   "outputs": [],
   "source": [
    "a = torch.randn(10)\n",
    "a.shape"
   ]
  },
  {
   "cell_type": "code",
   "execution_count": null,
   "metadata": {
    "id": "R9PIlxwT7zf9"
   },
   "outputs": [],
   "source": [
    "b = torch.randn(10,2)\n",
    "b.shape"
   ]
  },
  {
   "cell_type": "code",
   "execution_count": null,
   "metadata": {
    "id": "RsuBxOkH8Nua"
   },
   "outputs": [],
   "source": [
    "torch.matmul(a,b).min()"
   ]
  },
  {
   "cell_type": "code",
   "execution_count": null,
   "metadata": {
    "id": "JCOydEj58GsM"
   },
   "outputs": [],
   "source": [
    "a = a.unsqueeze(0)"
   ]
  },
  {
   "cell_type": "code",
   "execution_count": null,
   "metadata": {
    "id": "Z_V1D6m274Ed"
   },
   "outputs": [],
   "source": [
    "torch.matmul(a,b).min()"
   ]
  },
  {
   "cell_type": "code",
   "execution_count": null,
   "metadata": {
    "id": "2hZ_gTb_8RG0"
   },
   "outputs": [],
   "source": [
    "a = torch.randn(3,2,3)\n",
    "print(a)\n",
    "print(a.t())"
   ]
  },
  {
   "cell_type": "code",
   "execution_count": 14,
   "metadata": {
    "id": "pWC9Mp_BiePl"
   },
   "outputs": [
    {
     "name": "stdout",
     "output_type": "stream",
     "text": [
      "108\n"
     ]
    },
    {
     "data": {
      "text/plain": [
       "array([ 37,  84,  84,  81,   5, 101,  87,  56, 102,  72,  30,  21,  75,\n",
       "        98,  36,  94,  20,  91,  79, 102,  40,  46,  13, 104,  31,  85,\n",
       "        42,  37,  17,  34,  30])"
      ]
     },
     "execution_count": 14,
     "metadata": {},
     "output_type": "execute_result"
    }
   ],
   "source": [
    "print(X.shape[0])\n",
    "init_state = np.random.choice(X.shape[0],agents.shape[0])\n",
    "init_state"
   ]
  },
  {
   "cell_type": "code",
   "execution_count": 77,
   "metadata": {},
   "outputs": [
    {
     "data": {
      "text/plain": [
       "array([800, 500, 500, 800, 800, 500, 500, 800, 500, 800])"
      ]
     },
     "execution_count": 77,
     "metadata": {},
     "output_type": "execute_result"
    }
   ],
   "source": [
    "np.random.choice([300,500,800],size=(10))"
   ]
  },
  {
   "cell_type": "code",
   "execution_count": null,
   "metadata": {},
   "outputs": [],
   "source": []
  }
 ],
 "metadata": {
  "accelerator": "GPU",
  "colab": {
   "collapsed_sections": [
    "7vwRMYXItPE6",
    "ck7PXvqyFAvr"
   ],
   "name": "RL(3).ipynb",
   "provenance": []
  },
  "kernelspec": {
   "display_name": "Python 3",
   "language": "python",
   "name": "python3"
  },
  "language_info": {
   "codemirror_mode": {
    "name": "ipython",
    "version": 3
   },
   "file_extension": ".py",
   "mimetype": "text/x-python",
   "name": "python",
   "nbconvert_exporter": "python",
   "pygments_lexer": "ipython3",
   "version": "3.8.3"
  }
 },
 "nbformat": 4,
 "nbformat_minor": 1
}
